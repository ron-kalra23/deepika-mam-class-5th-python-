{
 "cells": [
  {
   "cell_type": "markdown",
   "id": "5ff7baa9",
   "metadata": {},
   "source": [
    "# while loop "
   ]
  },
  {
   "cell_type": "code",
   "execution_count": 1,
   "id": "2ec1ecea",
   "metadata": {},
   "outputs": [],
   "source": [
    "count = 1 "
   ]
  },
  {
   "cell_type": "code",
   "execution_count": 2,
   "id": "7aec235e",
   "metadata": {},
   "outputs": [
    {
     "name": "stdout",
     "output_type": "stream",
     "text": [
      "1\n",
      "2\n",
      "3\n",
      "4\n",
      "5\n",
      "6\n",
      "7\n",
      "8\n",
      "9\n",
      "10\n"
     ]
    }
   ],
   "source": [
    "while count < 11:\n",
    "    print(count)\n",
    "    count = count +1"
   ]
  },
  {
   "cell_type": "markdown",
   "id": "878cb2d7",
   "metadata": {},
   "source": [
    "# loops "
   ]
  },
  {
   "cell_type": "code",
   "execution_count": 4,
   "id": "720c6e4e",
   "metadata": {},
   "outputs": [
    {
     "name": "stdout",
     "output_type": "stream",
     "text": [
      "0\n",
      "1\n",
      "2\n",
      "3\n",
      "4\n",
      "5\n",
      "6\n",
      "7\n",
      "8\n"
     ]
    }
   ],
   "source": [
    "i =0 \n",
    "while(i<9):\n",
    "    print(i)\n",
    "    i = i +1"
   ]
  },
  {
   "cell_type": "code",
   "execution_count": 9,
   "id": "7cd43e6c",
   "metadata": {},
   "outputs": [
    {
     "name": "stdout",
     "output_type": "stream",
     "text": [
      "the value of i = 20\n",
      "the value of i = 25\n",
      "the value of i = 30\n",
      "the value of i = 35\n",
      "the value of i = 40\n"
     ]
    }
   ],
   "source": [
    "i = 20\n",
    "while i <45:\n",
    "    print( \"the value of i =\" , i)\n",
    "    i = i +5"
   ]
  },
  {
   "cell_type": "code",
   "execution_count": 14,
   "id": "9af8f948",
   "metadata": {},
   "outputs": [
    {
     "name": "stdout",
     "output_type": "stream",
     "text": [
      "25\n",
      "75\n",
      "125\n",
      "175\n",
      "225\n",
      "275\n",
      "325\n",
      "375\n",
      "425\n",
      "475\n",
      "525\n",
      "575\n",
      "625\n",
      "675\n",
      "725\n",
      "775\n",
      "825\n",
      "875\n",
      "925\n",
      "975\n"
     ]
    }
   ],
   "source": [
    "i=25\n",
    "while (i < 1000):\n",
    "    print(i)   #we have to make increamnet in while loop (i = I +1 ) \n",
    "    i= i +50"
   ]
  },
  {
   "cell_type": "markdown",
   "id": "1ce6892a",
   "metadata": {},
   "source": [
    "# For loop "
   ]
  },
  {
   "cell_type": "code",
   "execution_count": 12,
   "id": "b3eb73f5",
   "metadata": {},
   "outputs": [
    {
     "name": "stdout",
     "output_type": "stream",
     "text": [
      "1\n",
      "2\n",
      "3\n",
      "4\n",
      "5\n"
     ]
    }
   ],
   "source": [
    "for index in [1,2,3,4,5]:\n",
    "    print(index)"
   ]
  },
  {
   "cell_type": "code",
   "execution_count": 15,
   "id": "17dd2cca",
   "metadata": {},
   "outputs": [
    {
     "name": "stdout",
     "output_type": "stream",
     "text": [
      "1\n",
      "2\n",
      "3\n",
      "4\n",
      "5\n",
      "6\n"
     ]
    }
   ],
   "source": [
    "for i in [1,2,3,4,5,6]:\n",
    "    print(i)"
   ]
  },
  {
   "cell_type": "code",
   "execution_count": 16,
   "id": "c62cf2ad",
   "metadata": {},
   "outputs": [
    {
     "name": "stdout",
     "output_type": "stream",
     "text": [
      "10\n",
      "20\n",
      "30\n",
      "40\n",
      "50\n",
      "60\n"
     ]
    }
   ],
   "source": [
    "for index in [10,20,30,40,50,60]:\n",
    "    print(index)"
   ]
  },
  {
   "cell_type": "code",
   "execution_count": 17,
   "id": "401342c8",
   "metadata": {},
   "outputs": [
    {
     "name": "stdout",
     "output_type": "stream",
     "text": [
      "12.9\n",
      "23.3\n",
      "23.4\n",
      "89.9\n",
      "34.6\n"
     ]
    }
   ],
   "source": [
    "for index in [12.9 , 23.3, 23.4,89.9,34.6]:  '\"they will make the increament by themselves\"'\n",
    "    print(index)                               # for loop will choose the data of index one by one "
   ]
  },
  {
   "cell_type": "code",
   "execution_count": 1,
   "id": "d35b78bd",
   "metadata": {},
   "outputs": [
    {
     "name": "stdout",
     "output_type": "stream",
     "text": [
      "22\n",
      "33\n",
      "44\n",
      "5\n",
      "55\n",
      "66\n",
      "77\n",
      "88\n"
     ]
    }
   ],
   "source": [
    "for i in [22,33,44,5,55,66,77,88]:  #This i or index is looking for index value here one by one \n",
    "    print(i)"
   ]
  },
  {
   "cell_type": "code",
   "execution_count": 2,
   "id": "92488e04",
   "metadata": {},
   "outputs": [
    {
     "name": "stdout",
     "output_type": "stream",
     "text": [
      "a\n",
      "v\n",
      "b\n",
      "v\n",
      "c\n"
     ]
    }
   ],
   "source": [
    "for i in ['a' , 'v' , 'b' , 'v' , 'c']:\n",
    "    print(i)"
   ]
  },
  {
   "cell_type": "code",
   "execution_count": 3,
   "id": "80903cd6",
   "metadata": {},
   "outputs": [
    {
     "name": "stdout",
     "output_type": "stream",
     "text": [
      "apple\n",
      "mango\n",
      "banana\n",
      "slice\n",
      "oops\n"
     ]
    }
   ],
   "source": [
    "for p in ['apple' , 'mango' , 'banana' , 'slice' , 'oops']:\n",
    "    print (p)"
   ]
  },
  {
   "cell_type": "code",
   "execution_count": 4,
   "id": "0a9be3fb",
   "metadata": {},
   "outputs": [
    {
     "name": "stdout",
     "output_type": "stream",
     "text": [
      "a\n",
      "1\n",
      "2\n",
      "3\n",
      "3.12\n",
      "banana\n",
      "coldy\n"
     ]
    }
   ],
   "source": [
    "for i in ['a' , 1,2,3,3.12 , 'banana' , 'coldy']:\n",
    "    print(i)"
   ]
  },
  {
   "cell_type": "markdown",
   "id": "303b1f66",
   "metadata": {},
   "source": [
    "Difference between for and while loop :"
   ]
  },
  {
   "cell_type": "markdown",
   "id": "0156f1da",
   "metadata": {},
   "source": [
    "in while loop = 1.we have to give initialization , we have to give condition and increament too (i = i + 1)"
   ]
  },
  {
   "cell_type": "markdown",
   "id": "154e79db",
   "metadata": {},
   "source": [
    "in for loop = no need to give intitialization , condition and increament ."
   ]
  },
  {
   "cell_type": "markdown",
   "id": "665af54e",
   "metadata": {},
   "source": [
    "for loop work on indexing method , automatication iteration starts on index and print each element from index 0 one by one "
   ]
  },
  {
   "cell_type": "code",
   "execution_count": 6,
   "id": "b1d2bbb4",
   "metadata": {},
   "outputs": [],
   "source": [
    "# note=> in while loop we can not work on characters "
   ]
  },
  {
   "cell_type": "code",
   "execution_count": 8,
   "id": "395f8ed8",
   "metadata": {},
   "outputs": [
    {
     "name": "stdout",
     "output_type": "stream",
     "text": [
      "mercury\n",
      "venus\n",
      "cabbage\n",
      "10\n",
      "12\n",
      "78.9\n"
     ]
    }
   ],
   "source": [
    "for p in ['mercury' , 'venus' , 'cabbage' , 10 , '12' , 78.9]:\n",
    "    print(p)"
   ]
  },
  {
   "cell_type": "code",
   "execution_count": 10,
   "id": "8c67c404",
   "metadata": {},
   "outputs": [
    {
     "name": "stdout",
     "output_type": "stream",
     "text": [
      "fruit name is apple\n",
      "we are doing work on for loop\n",
      "end\n",
      "fruit name is mango\n",
      "we are doing work on for loop\n",
      "end\n",
      "fruit name is orange\n",
      "we are doing work on for loop\n",
      "end\n",
      "fruit name is kiwi\n",
      "we are doing work on for loop\n",
      "end\n",
      "fruit name is pineapple\n",
      "we are doing work on for loop\n",
      "end\n"
     ]
    }
   ],
   "source": [
    "for p in ['apple' , 'mango' , 'orange' , 'kiwi' , 'pineapple']:\n",
    "    print('fruit name is' , p)\n",
    "    print(\"we are doing work on for loop\") #all these three lines are part of for loop\n",
    "    print(\"end\")"
   ]
  },
  {
   "cell_type": "code",
   "execution_count": 11,
   "id": "d7180c01",
   "metadata": {},
   "outputs": [
    {
     "name": "stdout",
     "output_type": "stream",
     "text": [
      "fruit name is apple\n",
      "we are doing work on for loop\n",
      "fruit name is mango\n",
      "we are doing work on for loop\n",
      "fruit name is orange\n",
      "we are doing work on for loop\n",
      "fruit name is kiwi\n",
      "we are doing work on for loop\n",
      "fruit name is pineapple\n",
      "we are doing work on for loop\n",
      "end\n"
     ]
    }
   ],
   "source": [
    "for p in ['apple' , 'mango' , 'orange' , 'kiwi' , 'pineapple']:\n",
    "    print('fruit name is' , p)\n",
    "    print(\"we are doing work on for loop\")\n",
    "print(\"end\")  #First two lines are part of iteration while the last one is not"
   ]
  },
  {
   "cell_type": "code",
   "execution_count": 12,
   "id": "af5bfe3c",
   "metadata": {},
   "outputs": [
    {
     "name": "stdout",
     "output_type": "stream",
     "text": [
      "x= computer\n",
      "for loop for x\n",
      "x= laptop\n",
      "for loop for x\n",
      "x= mobile\n",
      "for loop for x\n",
      "x= chromebook\n",
      "for loop for x\n",
      "The end \n"
     ]
    }
   ],
   "source": [
    "for x in ['computer','laptop' , 'mobile','chromebook']:\n",
    "    print('x=' , x)\n",
    "    print('for loop for x')\n",
    "print(\"The end \")    "
   ]
  },
  {
   "cell_type": "code",
   "execution_count": 15,
   "id": "17c8c239",
   "metadata": {},
   "outputs": [
    {
     "name": "stdout",
     "output_type": "stream",
     "text": [
      "2* 1 = 2\n",
      "2* 2 = 4\n",
      "2* 3 = 6\n",
      "2* 4 = 8\n",
      "2* 5 = 10\n",
      "2* 6 = 12\n",
      "2* 7 = 14\n",
      "2* 8 = 16\n",
      "2* 9 = 18\n",
      "2* 10 = 20\n"
     ]
    }
   ],
   "source": [
    "i =1\n",
    "while (i<11):  # or we can write (i<=10)\n",
    "    print('2*' , i , '=' , 2*i)\n",
    "    i = i+1"
   ]
  },
  {
   "cell_type": "code",
   "execution_count": 17,
   "id": "9eb77550",
   "metadata": {},
   "outputs": [
    {
     "name": "stdout",
     "output_type": "stream",
     "text": [
      "enter any number from table generation  13\n",
      "13 * 1 = 13\n",
      "13 * 2 = 26\n",
      "13 * 3 = 39\n",
      "13 * 4 = 52\n",
      "13 * 5 = 65\n",
      "13 * 6 = 78\n",
      "13 * 7 = 91\n",
      "13 * 8 = 104\n",
      "13 * 9 = 117\n",
      "13 * 10 = 130\n"
     ]
    }
   ],
   "source": [
    "i =1\n",
    "j = int(input(\"enter any number from table generation  \"))\n",
    "while (i<=10):\n",
    "    print(j ,'*' ,i ,'=' , j*i )\n",
    "    i = i+1"
   ]
  },
  {
   "cell_type": "code",
   "execution_count": 21,
   "id": "f36df990",
   "metadata": {},
   "outputs": [
    {
     "name": "stdout",
     "output_type": "stream",
     "text": [
      "0\n",
      "1\n",
      "2\n",
      "3\n",
      "4\n",
      "5\n",
      "6\n",
      "7\n",
      "8\n",
      "9\n"
     ]
    }
   ],
   "source": [
    "i = 0\n",
    "list1=[]\n",
    "while(i<10):\n",
    "    print (i)\n",
    "    list1.append(i) #this will add i all value in list1\n",
    "    i = i +1"
   ]
  },
  {
   "cell_type": "code",
   "execution_count": 23,
   "id": "be4919d5",
   "metadata": {},
   "outputs": [
    {
     "data": {
      "text/plain": [
       "[0, 1, 2, 3, 4, 5, 6, 7, 8, 9]"
      ]
     },
     "execution_count": 23,
     "metadata": {},
     "output_type": "execute_result"
    }
   ],
   "source": [
    "list1 #value added successfully"
   ]
  },
  {
   "cell_type": "code",
   "execution_count": 26,
   "id": "42c39278",
   "metadata": {},
   "outputs": [
    {
     "name": "stdout",
     "output_type": "stream",
     "text": [
      "0\n",
      "[]\n",
      "1\n",
      "[0]\n",
      "2\n",
      "[0, 1]\n",
      "3\n",
      "[0, 1, 2]\n",
      "4\n",
      "[0, 1, 2, 3]\n",
      "5\n",
      "[0, 1, 2, 3, 4]\n",
      "6\n",
      "[0, 1, 2, 3, 4, 5]\n",
      "7\n",
      "[0, 1, 2, 3, 4, 5, 6]\n",
      "8\n",
      "[0, 1, 2, 3, 4, 5, 6, 7]\n",
      "9\n",
      "[0, 1, 2, 3, 4, 5, 6, 7, 8]\n",
      "the final list is  [0, 1, 2, 3, 4, 5, 6, 7, 8, 9]\n"
     ]
    }
   ],
   "source": [
    "i = 0\n",
    "list1=[]\n",
    "while(i<10):\n",
    "    print (i)\n",
    "    print(list1)\n",
    "    list1.append(i) #this will add i all value in list1\n",
    "    i = i +1\n",
    "print(\"the final list is \" , list1)"
   ]
  },
  {
   "cell_type": "code",
   "execution_count": 30,
   "id": "f5672fc2",
   "metadata": {},
   "outputs": [
    {
     "data": {
      "text/plain": [
       "range(0, 3)"
      ]
     },
     "execution_count": 30,
     "metadata": {},
     "output_type": "execute_result"
    }
   ],
   "source": [
    "range(3)"
   ]
  },
  {
   "cell_type": "code",
   "execution_count": 31,
   "id": "cea2e250",
   "metadata": {},
   "outputs": [
    {
     "data": {
      "text/plain": [
       "[0, 1, 2]"
      ]
     },
     "execution_count": 31,
     "metadata": {},
     "output_type": "execute_result"
    }
   ],
   "source": [
    "list(range(3)) #if we want to see the sequence of list  # last number doesn't include "
   ]
  },
  {
   "cell_type": "code",
   "execution_count": 32,
   "id": "b4de656f",
   "metadata": {},
   "outputs": [
    {
     "data": {
      "text/plain": [
       "range(0, 7)"
      ]
     },
     "execution_count": 32,
     "metadata": {},
     "output_type": "execute_result"
    }
   ],
   "source": [
    "range(7)"
   ]
  },
  {
   "cell_type": "code",
   "execution_count": 33,
   "id": "424efb19",
   "metadata": {},
   "outputs": [
    {
     "data": {
      "text/plain": [
       "[0, 1, 2, 3, 4, 5, 6]"
      ]
     },
     "execution_count": 33,
     "metadata": {},
     "output_type": "execute_result"
    }
   ],
   "source": [
    "list(range(7)) # made a list of range(7) and last number not included"
   ]
  },
  {
   "cell_type": "code",
   "execution_count": 34,
   "id": "61b2f495",
   "metadata": {},
   "outputs": [
    {
     "data": {
      "text/plain": [
       "[0, 1, 2, 3, 4, 5, 6, 7, 8, 9, 10, 11, 12, 13, 14, 15, 16, 17, 18, 19]"
      ]
     },
     "execution_count": 34,
     "metadata": {},
     "output_type": "execute_result"
    }
   ],
   "source": [
    "list(range(20))"
   ]
  },
  {
   "cell_type": "code",
   "execution_count": 35,
   "id": "3309563d",
   "metadata": {},
   "outputs": [
    {
     "name": "stdout",
     "output_type": "stream",
     "text": [
      "0\n",
      "1\n",
      "2\n"
     ]
    }
   ],
   "source": [
    "for i in range(3):\n",
    "    print (i)"
   ]
  },
  {
   "cell_type": "code",
   "execution_count": 36,
   "id": "3ed56a70",
   "metadata": {},
   "outputs": [
    {
     "name": "stdout",
     "output_type": "stream",
     "text": [
      "0\n",
      "1\n",
      "2\n",
      "3\n",
      "4\n",
      "5\n",
      "6\n",
      "7\n",
      "8\n",
      "9\n",
      "10\n"
     ]
    }
   ],
   "source": [
    "for i in range (0,11):\n",
    "    print(i)"
   ]
  },
  {
   "cell_type": "code",
   "execution_count": 37,
   "id": "3a4d3466",
   "metadata": {},
   "outputs": [
    {
     "data": {
      "text/plain": [
       "[0, 1, 2, 3, 4, 5, 6, 7, 8, 9]"
      ]
     },
     "execution_count": 37,
     "metadata": {},
     "output_type": "execute_result"
    }
   ],
   "source": [
    "list(range(10))"
   ]
  },
  {
   "cell_type": "code",
   "execution_count": 38,
   "id": "65ed2669",
   "metadata": {},
   "outputs": [
    {
     "data": {
      "text/plain": [
       "[10,\n",
       " 11,\n",
       " 12,\n",
       " 13,\n",
       " 14,\n",
       " 15,\n",
       " 16,\n",
       " 17,\n",
       " 18,\n",
       " 19,\n",
       " 20,\n",
       " 21,\n",
       " 22,\n",
       " 23,\n",
       " 24,\n",
       " 25,\n",
       " 26,\n",
       " 27,\n",
       " 28,\n",
       " 29,\n",
       " 30,\n",
       " 31,\n",
       " 32,\n",
       " 33,\n",
       " 34,\n",
       " 35,\n",
       " 36,\n",
       " 37,\n",
       " 38,\n",
       " 39,\n",
       " 40,\n",
       " 41,\n",
       " 42,\n",
       " 43,\n",
       " 44,\n",
       " 45,\n",
       " 46,\n",
       " 47,\n",
       " 48,\n",
       " 49,\n",
       " 50,\n",
       " 51,\n",
       " 52,\n",
       " 53,\n",
       " 54,\n",
       " 55,\n",
       " 56,\n",
       " 57,\n",
       " 58,\n",
       " 59,\n",
       " 60,\n",
       " 61,\n",
       " 62,\n",
       " 63,\n",
       " 64,\n",
       " 65,\n",
       " 66,\n",
       " 67,\n",
       " 68,\n",
       " 69,\n",
       " 70,\n",
       " 71,\n",
       " 72,\n",
       " 73,\n",
       " 74,\n",
       " 75,\n",
       " 76,\n",
       " 77,\n",
       " 78,\n",
       " 79,\n",
       " 80,\n",
       " 81,\n",
       " 82,\n",
       " 83,\n",
       " 84,\n",
       " 85,\n",
       " 86,\n",
       " 87,\n",
       " 88,\n",
       " 89,\n",
       " 90,\n",
       " 91,\n",
       " 92,\n",
       " 93,\n",
       " 94,\n",
       " 95,\n",
       " 96,\n",
       " 97,\n",
       " 98,\n",
       " 99,\n",
       " 100]"
      ]
     },
     "execution_count": 38,
     "metadata": {},
     "output_type": "execute_result"
    }
   ],
   "source": [
    "list(range(10,101))"
   ]
  },
  {
   "cell_type": "code",
   "execution_count": 39,
   "id": "8eb8e702",
   "metadata": {},
   "outputs": [
    {
     "name": "stdout",
     "output_type": "stream",
     "text": [
      "6\n",
      "7\n",
      "8\n",
      "9\n",
      "10\n",
      "11\n",
      "12\n",
      "13\n",
      "14\n",
      "15\n",
      "16\n",
      "17\n",
      "18\n"
     ]
    }
   ],
   "source": [
    "for i in range(6,19):\n",
    "    print(i)"
   ]
  },
  {
   "cell_type": "code",
   "execution_count": 40,
   "id": "d584b0d9",
   "metadata": {},
   "outputs": [],
   "source": [
    "#range(startindex , endindex , jump)"
   ]
  },
  {
   "cell_type": "code",
   "execution_count": 45,
   "id": "a6018cda",
   "metadata": {},
   "outputs": [
    {
     "data": {
      "text/plain": [
       "[7, 8, 9, 10, 11, 12, 13]"
      ]
     },
     "execution_count": 45,
     "metadata": {},
     "output_type": "execute_result"
    }
   ],
   "source": [
    "list(range(7,14))"
   ]
  },
  {
   "cell_type": "code",
   "execution_count": 47,
   "id": "5bd52458",
   "metadata": {},
   "outputs": [
    {
     "data": {
      "text/plain": [
       "[7, 9, 11, 13, 15, 17, 19]"
      ]
     },
     "execution_count": 47,
     "metadata": {},
     "output_type": "execute_result"
    }
   ],
   "source": [
    "list(range(7,20,2)) #start index = 7 , endindex = 20 , jump = 2 (+2)"
   ]
  },
  {
   "cell_type": "code",
   "execution_count": 48,
   "id": "7b8c16c8",
   "metadata": {},
   "outputs": [
    {
     "name": "stdout",
     "output_type": "stream",
     "text": [
      "10\n",
      "20\n",
      "30\n",
      "40\n",
      "50\n",
      "60\n",
      "70\n",
      "80\n",
      "90\n",
      "100\n"
     ]
    }
   ],
   "source": [
    "for i in range (10,101,10):\n",
    "    print(i)  #using end we are saying pass the data side by side and give space in b/w"
   ]
  },
  {
   "cell_type": "code",
   "execution_count": 51,
   "id": "1fcbfc8a",
   "metadata": {},
   "outputs": [
    {
     "name": "stdout",
     "output_type": "stream",
     "text": [
      "2 4 6 8 10 12 14 16 18 "
     ]
    }
   ],
   "source": [
    "for i in range(2,20,2):\n",
    "    print(i , end =\" \")  # end = \"\" used for space b/w numbers"
   ]
  },
  {
   "cell_type": "code",
   "execution_count": 49,
   "id": "a8483171",
   "metadata": {},
   "outputs": [
    {
     "name": "stdout",
     "output_type": "stream",
     "text": [
      "17\n",
      "34\n",
      "51\n",
      "68\n",
      "85\n",
      "102\n",
      "119\n",
      "136\n",
      "153\n",
      "170\n"
     ]
    }
   ],
   "source": [
    "for i in range(17,171,17):\n",
    "    print(i)"
   ]
  },
  {
   "cell_type": "code",
   "execution_count": 52,
   "id": "eb97a90e",
   "metadata": {},
   "outputs": [
    {
     "name": "stdout",
     "output_type": "stream",
     "text": [
      "2\n",
      "4\n",
      "6\n",
      "8\n",
      "10\n",
      "12\n",
      "14\n",
      "16\n",
      "18\n"
     ]
    }
   ],
   "source": [
    "for i in range (2,20,2): #if we don't use end the data is coming in new line \n",
    "    print(i)  # wuthout end = \" \" passed it in vertical order"
   ]
  },
  {
   "cell_type": "code",
   "execution_count": null,
   "id": "a7bf3566",
   "metadata": {},
   "outputs": [],
   "source": []
  }
 ],
 "metadata": {
  "kernelspec": {
   "display_name": "Python 3 (ipykernel)",
   "language": "python",
   "name": "python3"
  },
  "language_info": {
   "codemirror_mode": {
    "name": "ipython",
    "version": 3
   },
   "file_extension": ".py",
   "mimetype": "text/x-python",
   "name": "python",
   "nbconvert_exporter": "python",
   "pygments_lexer": "ipython3",
   "version": "3.9.13"
  }
 },
 "nbformat": 4,
 "nbformat_minor": 5
}
